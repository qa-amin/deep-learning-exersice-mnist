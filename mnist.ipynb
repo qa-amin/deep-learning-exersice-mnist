{
  "nbformat": 4,
  "nbformat_minor": 0,
  "metadata": {
    "colab": {
      "name": "mnist.ipynb",
      "provenance": [],
      "collapsed_sections": []
    },
    "kernelspec": {
      "name": "python3",
      "display_name": "Python 3"
    },
    "language_info": {
      "name": "python"
    }
  },
  "cells": [
    {
      "cell_type": "code",
      "metadata": {
        "id": "i4otnQ_esjkJ"
      },
      "source": [
        "# import lib\n",
        "from tensorflow import keras\n",
        "import numpy as np\n",
        "import matplotlib.pyplot as plt"
      ],
      "execution_count": 1,
      "outputs": []
    },
    {
      "cell_type": "code",
      "metadata": {
        "id": "mnxs5lLys1NP",
        "colab": {
          "base_uri": "https://localhost:8080/"
        },
        "outputId": "c6cf296c-3400-4e66-fe5f-0633d6dc221f"
      },
      "source": [
        "# load data set\n",
        "(x_train, y_train), (x_test, y_test) = keras.datasets.mnist.load_data()"
      ],
      "execution_count": 2,
      "outputs": [
        {
          "output_type": "stream",
          "name": "stdout",
          "text": [
            "Downloading data from https://storage.googleapis.com/tensorflow/tf-keras-datasets/mnist.npz\n",
            "11493376/11490434 [==============================] - 0s 0us/step\n",
            "11501568/11490434 [==============================] - 0s 0us/step\n"
          ]
        }
      ]
    },
    {
      "cell_type": "code",
      "metadata": {
        "colab": {
          "base_uri": "https://localhost:8080/",
          "height": 166
        },
        "id": "9IC5Vn-dtXuA",
        "outputId": "87b4b41f-be98-44b2-d800-d0fe356a3a04"
      },
      "source": [
        "# show some digit\n",
        "plt.figure(figsize=(20,10))\n",
        "for i in range(8):\n",
        "  plt.subplot(1, 8, i+1)\n",
        "  plt.imshow(x_train[i], cmap='gray')\n",
        "  plt.title(y_train[i])\n",
        "  plt.xticks([])\n",
        "  plt.yticks([])\n",
        "  \n"
      ],
      "execution_count": 3,
      "outputs": [
        {
          "output_type": "display_data",
          "data": {
            "image/png": "[encoded data removed]",
            "text/plain": [
              "<Figure size 1440x720 with 8 Axes>"
            ]
          },
          "metadata": {}
        }
      ]
    },
    {
      "cell_type": "code",
      "metadata": {
        "colab": {
          "base_uri": "https://localhost:8080/",
          "height": 686
        },
        "id": "wtSCK5Qct852",
        "outputId": "cdd075b9-b847-4c23-f846-1131ee5b4865"
      },
      "source": [
        "# number of each digit\n",
        "number = [0 for i in range(10)]\n",
        "for i in y_train:\n",
        "  number[i] += 1\n",
        "print(number)\n",
        "plt.figure(figsize=(10,10))\n",
        "plt.stem(number)\n",
        "plt.xlim((0,9))\n",
        "\n",
        "  "
      ],
      "execution_count": 4,
      "outputs": [
        {
          "output_type": "stream",
          "name": "stdout",
          "text": [
            "[5923, 6742, 5958, 6131, 5842, 5421, 5918, 6265, 5851, 5949]\n"
          ]
        },
        {
          "output_type": "stream",
          "name": "stderr",
          "text": [
            "/usr/local/lib/python3.7/dist-packages/ipykernel_launcher.py:7: UserWarning: In Matplotlib 3.3 individual lines on a stem plot will be added as a LineCollection instead of individual lines. This significantly improves the performance of a stem plot. To remove this warning and switch to the new behaviour, set the \"use_line_collection\" keyword argument to True.\n",
            "  import sys\n"
          ]
        },
        {
          "output_type": "execute_result",
          "data": {
            "text/plain": [
              "(0.0, 9.0)"
            ]
          },
          "metadata": {},
          "execution_count": 4
        },
        {
          "output_type": "display_data",
          "data": {
            "image/png": "[encoded data removed]",
            "text/plain": [
              "<Figure size 720x720 with 1 Axes>"
            ]
          },
          "metadata": {
            "needs_background": "light"
          }
        }
      ]
    },
    {
      "cell_type": "code",
      "metadata": {
        "id": "KsDoawkEyyTs"
      },
      "source": [
        "# normalaize\n",
        "x_train = x_train.astype(float) / 255.\n",
        "x_test = x_test.astype(float) / 255."
      ],
      "execution_count": 5,
      "outputs": []
    },
    {
      "cell_type": "code",
      "metadata": {
        "id": "KDBFoGGBEDLi"
      },
      "source": [
        "# normalaize\n",
        "num_class = 10\n",
        "y_train = keras.utils.to_categorical(y_train, num_class)\n",
        "y_test = keras.utils.to_categorical(y_test, num_class)"
      ],
      "execution_count": 6,
      "outputs": []
    },
    {
      "cell_type": "code",
      "metadata": {
        "colab": {
          "base_uri": "https://localhost:8080/"
        },
        "id": "PJ4-tkXC4eIx",
        "outputId": "12d2d844-faeb-4b15-e0e9-639c48d15299"
      },
      "source": [
        "# MLP neuron\n",
        "model = keras.Sequential()\n",
        "model.add(keras.layers.Input(shape=x_train[0].shape))\n",
        "model.add(keras.layers.Flatten())\n",
        "model.add(keras.layers.Dense(units=512, activation='relu'))\n",
        "model.add(keras.layers.Dense(units=10, activation='sigmoid'))\n",
        "model.summary()"
      ],
      "execution_count": 7,
      "outputs": [
        {
          "output_type": "stream",
          "name": "stdout",
          "text": [
            "Model: \"sequential\"\n",
            "_________________________________________________________________\n",
            " Layer (type)                Output Shape              Param #   \n",
            "=================================================================\n",
            " flatten (Flatten)           (None, 784)               0         \n",
            "                                                                 \n",
            " dense (Dense)               (None, 512)               401920    \n",
            "                                                                 \n",
            " dense_1 (Dense)             (None, 10)                5130      \n",
            "                                                                 \n",
            "=================================================================\n",
            "Total params: 407,050\n",
            "Trainable params: 407,050\n",
            "Non-trainable params: 0\n",
            "_________________________________________________________________\n"
          ]
        }
      ]
    },
    {
      "cell_type": "code",
      "metadata": {
        "id": "3XXocfPC7o6M"
      },
      "source": [
        "# compile model\n",
        "model.compile(loss='mse', optimizer='adam')"
      ],
      "execution_count": 8,
      "outputs": []
    },
    {
      "cell_type": "code",
      "metadata": {
        "colab": {
          "base_uri": "https://localhost:8080/"
        },
        "id": "6gX2IMDc8aMr",
        "outputId": "23b10646-e5bc-426b-c848-b5c350f6042f"
      },
      "source": [
        "# train the model\n",
        "history = model.fit(x_train, y_train,\n",
        "                    validation_data=(x_test, y_test),\n",
        "                    batch_size=100,\n",
        "                    epochs=20,\n",
        "                    shuffle=True)"
      ],
      "execution_count": 9,
      "outputs": [
        {
          "output_type": "stream",
          "name": "stdout",
          "text": [
            "Epoch 1/20\n",
            "600/600 [==============================] - 8s 13ms/step - loss: 0.0184 - val_loss: 0.0087\n",
            "Epoch 2/20\n",
            "600/600 [==============================] - 8s 14ms/step - loss: 0.0071 - val_loss: 0.0059\n",
            "Epoch 3/20\n",
            "600/600 [==============================] - 7s 11ms/step - loss: 0.0050 - val_loss: 0.0052\n",
            "Epoch 4/20\n",
            "600/600 [==============================] - 5s 8ms/step - loss: 0.0038 - val_loss: 0.0044\n",
            "Epoch 5/20\n",
            "600/600 [==============================] - 5s 8ms/step - loss: 0.0031 - val_loss: 0.0040\n",
            "Epoch 6/20\n",
            "600/600 [==============================] - 5s 8ms/step - loss: 0.0025 - val_loss: 0.0038\n",
            "Epoch 7/20\n",
            "600/600 [==============================] - 5s 8ms/step - loss: 0.0021 - val_loss: 0.0037\n",
            "Epoch 8/20\n",
            "600/600 [==============================] - 5s 8ms/step - loss: 0.0017 - val_loss: 0.0034\n",
            "Epoch 9/20\n",
            "600/600 [==============================] - 5s 8ms/step - loss: 0.0014 - val_loss: 0.0034\n",
            "Epoch 10/20\n",
            "600/600 [==============================] - 5s 8ms/step - loss: 0.0013 - val_loss: 0.0033\n",
            "Epoch 11/20\n",
            "600/600 [==============================] - 5s 8ms/step - loss: 0.0011 - val_loss: 0.0033\n",
            "Epoch 12/20\n",
            "600/600 [==============================] - 5s 8ms/step - loss: 9.8387e-04 - val_loss: 0.0031\n",
            "Epoch 13/20\n",
            "600/600 [==============================] - 5s 8ms/step - loss: 7.9522e-04 - val_loss: 0.0033\n",
            "Epoch 14/20\n",
            "600/600 [==============================] - 5s 8ms/step - loss: 7.2333e-04 - val_loss: 0.0033\n",
            "Epoch 15/20\n",
            "600/600 [==============================] - 5s 8ms/step - loss: 6.6028e-04 - val_loss: 0.0032\n",
            "Epoch 16/20\n",
            "600/600 [==============================] - 5s 8ms/step - loss: 6.4598e-04 - val_loss: 0.0031\n",
            "Epoch 17/20\n",
            "600/600 [==============================] - 5s 8ms/step - loss: 5.4612e-04 - val_loss: 0.0032\n",
            "Epoch 18/20\n",
            "600/600 [==============================] - 5s 8ms/step - loss: 5.3121e-04 - val_loss: 0.0032\n",
            "Epoch 19/20\n",
            "600/600 [==============================] - 5s 8ms/step - loss: 5.3002e-04 - val_loss: 0.0030\n",
            "Epoch 20/20\n",
            "600/600 [==============================] - 5s 8ms/step - loss: 4.6989e-04 - val_loss: 0.0032\n"
          ]
        }
      ]
    },
    {
      "cell_type": "code",
      "metadata": {
        "colab": {
          "base_uri": "https://localhost:8080/",
          "height": 1000
        },
        "id": "IYY-tRXt9U_e",
        "outputId": "9dc780a5-56ee-4131-a444-7156b9ad179b"
      },
      "source": [
        "# showe result\n",
        "y_predict = model.predict(x_test)\n",
        "for i in range(8):\n",
        "  print(f'test:{np.argmax(y_test[i])}')\n",
        "  print(f'predict:{np.argmax(y_predict[i])}')\n",
        "  plt.imshow(x_test[i], cmap='gray')\n",
        "  plt.title(y_test[i])\n",
        "  plt.show()"
      ],
      "execution_count": 10,
      "outputs": [
        {
          "output_type": "stream",
          "name": "stdout",
          "text": [
            "test:7\n",
            "predict:7\n"
          ]
        },
        {
          "output_type": "stream",
          "name": "stderr",
          "text": [
            "/usr/local/lib/python3.7/dist-packages/matplotlib/text.py:1165: FutureWarning: elementwise comparison failed; returning scalar instead, but in the future will perform elementwise comparison\n",
            "  if s != self._text:\n"
          ]
        },
        {
          "output_type": "display_data",
          "data": {
            "image/png": "[encoded data removed]",
            "text/plain": [
              "<Figure size 432x288 with 1 Axes>"
            ]
          },
          "metadata": {
            "needs_background": "light"
          }
        },
        {
          "output_type": "stream",
          "name": "stdout",
          "text": [
            "test:2\n",
            "predict:2\n"
          ]
        },
        {
          "output_type": "display_data",
          "data": {
            "image/png": "[encoded data removed]",
            "text/plain": [
              "<Figure size 432x288 with 1 Axes>"
            ]
          },
          "metadata": {
            "needs_background": "light"
          }
        },
        {
          "output_type": "stream",
          "name": "stdout",
          "text": [
            "test:1\n",
            "predict:1\n"
          ]
        },
        {
          "output_type": "display_data",
          "data": {
            "image/png": "[encoded data removed]",
            "text/plain": [
              "<Figure size 432x288 with 1 Axes>"
            ]
          },
          "metadata": {
            "needs_background": "light"
          }
        },
        {
          "output_type": "stream",
          "name": "stdout",
          "text": [
            "test:0\n",
            "predict:0\n"
          ]
        },
        {
          "output_type": "display_data",
          "data": {
            "image/png": "[encoded data removed]",
            "text/plain": [
              "<Figure size 432x288 with 1 Axes>"
            ]
          },
          "metadata": {
            "needs_background": "light"
          }
        },
        {
          "output_type": "stream",
          "name": "stdout",
          "text": [
            "test:4\n",
            "predict:4\n"
          ]
        },
        {
          "output_type": "display_data",
          "data": {
            "image/png": "[encoded data removed]",
            "text/plain": [
              "<Figure size 432x288 with 1 Axes>"
            ]
          },
          "metadata": {
            "needs_background": "light"
          }
        },
        {
          "output_type": "stream",
          "name": "stdout",
          "text": [
            "test:1\n",
            "predict:1\n"
          ]
        },
        {
          "output_type": "display_data",
          "data": {
            "image/png": "[encoded data removed]",
            "text/plain": [
              "<Figure size 432x288 with 1 Axes>"
            ]
          },
          "metadata": {
            "needs_background": "light"
          }
        },
        {
          "output_type": "stream",
          "name": "stdout",
          "text": [
            "test:4\n",
            "predict:4\n"
          ]
        },
        {
          "output_type": "display_data",
          "data": {
            "image/png": "[encoded data removed]",
            "text/plain": [
              "<Figure size 432x288 with 1 Axes>"
            ]
          },
          "metadata": {
            "needs_background": "light"
          }
        },
        {
          "output_type": "stream",
          "name": "stdout",
          "text": [
            "test:9\n",
            "predict:9\n"
          ]
        },
        {
          "output_type": "display_data",
          "data": {
            "image/png": "[encoded data removed]",
            "text/plain": [
              "<Figure size 432x288 with 1 Axes>"
            ]
          },
          "metadata": {
            "needs_background": "light"
          }
        }
      ]
    },
    {
      "cell_type": "code",
      "metadata": {
        "colab": {
          "base_uri": "https://localhost:8080/"
        },
        "id": "eJEk59FR_-IF",
        "outputId": "a3daaa97-4fa9-4928-8535-4cc706b0ace2"
      },
      "source": [
        "# accuracy\n",
        "accuracy = np.average(np.argmax(y_predict, axis=1) == np.argmax(y_test, axis=1)) * 100\n",
        "print(f'accuracy is {accuracy}%')"
      ],
      "execution_count": 11,
      "outputs": [
        {
          "output_type": "stream",
          "name": "stdout",
          "text": [
            "accuracy is 98.39%\n"
          ]
        }
      ]
    }
  ]
}